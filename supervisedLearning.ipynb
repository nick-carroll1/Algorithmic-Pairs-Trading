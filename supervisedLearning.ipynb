{
 "cells": [
  {
   "cell_type": "code",
   "execution_count": null,
   "metadata": {},
   "outputs": [],
   "source": [
    "# QuantBook Analysis Tool \n",
    "# For more information see [https://www.quantconnect.com/docs/research/overview]\n",
    "qb = QuantBook()\n",
    "spy = qb.AddEquity('SPY')\n",
    "msft = qb.AddEquity('MSFT')\n",
    "history = qb.History(qb.Securities.Keys, 360, Resolution.Daily)\n",
    "\n",
    "# Indicator Analysis\n",
    "# bbdf = qb.Indicator(BollingerBands(30, 2), spy.Symbol, 360, Resolution.Daily)\n",
    "# bbdf.drop('standarddeviation', 1).plot()"
   ]
  },
  {
   "cell_type": "code",
   "execution_count": null,
   "metadata": {},
   "outputs": [],
   "source": [
    "history = history['close'].unstack(level = 0)"
   ]
  },
  {
   "cell_type": "code",
   "execution_count": null,
   "metadata": {},
   "outputs": [],
   "source": [
    "history['spread'] = history['MSFT R735QTJ8XC9X'] - history ['SPY R735QTJ8XC9X']"
   ]
  },
  {
   "cell_type": "code",
   "execution_count": null,
   "metadata": {},
   "outputs": [],
   "source": [
    "history['ideal_action'] = history['spread'].diff().shift(-1).apply(lambda x: 'long' if x < 0 else 'short')"
   ]
  },
  {
   "cell_type": "code",
   "execution_count": null,
   "metadata": {},
   "outputs": [],
   "source": [
    "import altair as alt\n",
    "\n",
    "alt.Chart(history).mark_point().encode(x = alt.X('SPY R735QTJ8XC9X', scale = alt.Scale(zero = False)), y = alt.Y('MSFT R735QTJ8XC9X', scale = alt.Scale(zero = False)), color = 'ideal_action')"
   ]
  },
  {
   "cell_type": "code",
   "execution_count": null,
   "metadata": {},
   "outputs": [],
   "source": [
    "import numpy as np\n",
    "\n",
    "history.loc[:, 'approx_return'] = history.loc[:, 'spread'].diff().shift(-1)"
   ]
  },
  {
   "cell_type": "code",
   "execution_count": null,
   "metadata": {},
   "outputs": [],
   "source": [
    "alt.Chart(history).mark_point().encode(x = alt.X('spread', scale = alt.Scale(zero = False)), y = alt.Y('approx_return', scale = alt.Scale(zero = False)), color = 'ideal_action')"
   ]
  },
  {
   "cell_type": "code",
   "execution_count": null,
   "metadata": {},
   "outputs": [],
   "source": [
    "for i in range(1, 60):\n",
    "    history.loc[:, 'approx_md_return'] = history.loc[:, 'spread'].diff().rolling(i).mean().shift(-i)\n",
    "    base = alt.Chart(history).mark_point().encode(x = alt.X('spread', scale = alt.Scale(zero = False)), y = alt.Y('approx_md_return', scale = alt.Scale(zero = False)), color = 'ideal_action')\n",
    "    regression = base.transform_regression('spread', 'approx_md_return').mark_line()\n",
    "    display(base + regression)"
   ]
  },
  {
   "cell_type": "code",
   "execution_count": null,
   "metadata": {},
   "outputs": [],
   "source": [
    "for i in range(2, 60):\n",
    "    history.loc[:, 'approx_md_volatility'] = history.loc[:, 'spread'].diff().rolling(i).std().shift(-i)\n",
    "    base = alt.Chart(history).mark_point().encode(x = alt.X('spread', scale = alt.Scale(zero = False)), y = alt.Y('approx_md_volatility', scale = alt.Scale(zero = False)), color = 'ideal_action')\n",
    "    regression = base.transform_regression('spread', 'approx_md_volatility').mark_line()\n",
    "    display(base + regression)"
   ]
  },
  {
   "cell_type": "code",
   "execution_count": null,
   "metadata": {},
   "outputs": [],
   "source": [
    "import statsmodels.api as sm\n",
    "\n",
    "regressions = pd.DataFrame()\n",
    "for i in range(2, 45):\n",
    "    history.loc[:, 'approx_md_return'] = history.loc[:, 'spread'].diff().rolling(i).mean().shift(-i)\n",
    "    history.loc[:, 'approx_md_volatility'] = history.loc[:, 'spread'].diff().rolling(i).std().shift(-i)\n",
    "    X = sm.add_constant(history.dropna().loc[:, 'spread'])\n",
    "    y1 = history.dropna().loc[:, 'approx_md_return']\n",
    "    y2 = history.dropna().loc[:, 'approx_md_volatility']\n",
    "    regression1 = sm.OLS(y1, X).fit()\n",
    "    regression2 = sm.OLS(y2, X).fit()\n",
    "    regressions.loc[i, 'beta'] = regression1.params.loc['spread']\n",
    "    regressions.loc[i, 'r-squared'] = regression1.rsquared\n",
    "    regressions.loc[i, 'volatility beta'] =  regression2.params.loc['spread']\n",
    "    regressions.loc[i, 'volatility r-squared'] = regression2.rsquared\n",
    "regressions.head()"
   ]
  },
  {
   "cell_type": "code",
   "execution_count": null,
   "metadata": {},
   "outputs": [],
   "source": [
    "history.loc[:, 'approx_5d_return'] = history.loc[:, 'spread'].diff().rolling(5).mean().shift(-5)\n",
    "history.loc[:, 'approx_45d_return'] = history.loc[:, 'spread'].diff().rolling(45).mean().shift(-45)"
   ]
  },
  {
   "cell_type": "code",
   "execution_count": null,
   "metadata": {},
   "outputs": [],
   "source": [
    "alt.Chart(history).mark_point().encode(x = 'approx_5d_return', y = 'approx_45d_return', color = 'ideal_action')"
   ]
  },
  {
   "cell_type": "code",
   "execution_count": null,
   "metadata": {},
   "outputs": [],
   "source": [
    "history.loc[:, 'spread'].hist()"
   ]
  },
  {
   "cell_type": "code",
   "execution_count": null,
   "metadata": {},
   "outputs": [],
   "source": [
    "mean = history.loc[:, 'spread'].mean()"
   ]
  },
  {
   "cell_type": "code",
   "execution_count": null,
   "metadata": {},
   "outputs": [],
   "source": [
    "std = history.loc[:, 'spread'].std()"
   ]
  },
  {
   "cell_type": "code",
   "execution_count": null,
   "metadata": {},
   "outputs": [],
   "source": [
    "import math"
   ]
  },
  {
   "cell_type": "code",
   "execution_count": null,
   "metadata": {},
   "outputs": [],
   "source": [
    "history.loc[:, 'PDF'] = (1 / std / math.sqrt(2 * math.pi) * np.exp(- (history.loc[:, 'spread'] - mean) ** 2 / 2 / std ** 2))"
   ]
  },
  {
   "cell_type": "code",
   "execution_count": null,
   "metadata": {},
   "outputs": [],
   "source": [
    "alt.Chart(history).mark_line().encode(x = 'spread', y = 'PDF')"
   ]
  },
  {
   "cell_type": "code",
   "execution_count": null,
   "metadata": {},
   "outputs": [],
   "source": [
    "history.loc[:, 'dist'] = (regression1.params['const'] + history.loc[:, 'spread'] * regression1.params['spread']) * history.loc[:, 'PDF']"
   ]
  },
  {
   "cell_type": "code",
   "execution_count": null,
   "metadata": {},
   "outputs": [],
   "source": [
    "alt.Chart(history).mark_line().encode(x = 'spread', y = alt.Y('dist', scale = alt.Scale(zero = False)))"
   ]
  },
  {
   "cell_type": "code",
   "execution_count": null,
   "metadata": {},
   "outputs": [],
   "source": [
    "regression1.params"
   ]
  }
 ],
 "metadata": {
  "kernelspec": {
   "display_name": "base",
   "language": "python",
   "name": "python3"
  },
  "language_info": {
   "name": "python",
   "version": "3.10.6"
  },
  "orig_nbformat": 4,
  "vscode": {
   "interpreter": {
    "hash": "72db1ef4dcd6e2344e9289c13171ece59739274764f83c0b8f73f911c07b82ff"
   }
  }
 },
 "nbformat": 4,
 "nbformat_minor": 2
}
